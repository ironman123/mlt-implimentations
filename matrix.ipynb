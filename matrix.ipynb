{
 "cells": [
  {
   "cell_type": "code",
   "execution_count": 2,
   "metadata": {},
   "outputs": [],
   "source": [
    "import numpy as np"
   ]
  },
  {
   "cell_type": "markdown",
   "metadata": {},
   "source": [
    "## Matrix as a `NumPy` array\n",
    "Everything in `NumPy` is an array. A matrix is also an array. Let us create a simple matrix:\n",
    "$$\n",
    "\\textbf{M} = \\begin{bmatrix}\n",
    "1 & 2 & 3\\\\\n",
    "4 & 5 & 6\\\\\n",
    "7 & 8 & 9\n",
    "\\end{bmatrix}\n",
    "$$\n",
    "In `NumPy`:"
   ]
  },
  {
   "cell_type": "code",
   "execution_count": 2,
   "metadata": {},
   "outputs": [
    {
     "data": {
      "text/plain": [
       "array([[1, 2, 3],\n",
       "       [4, 5, 6],\n",
       "       [7, 8, 9]])"
      ]
     },
     "execution_count": 2,
     "metadata": {},
     "output_type": "execute_result"
    }
   ],
   "source": [
    "M = np.array([[1,2,3],[4,5,6],[7,8,9]])\n",
    "M"
   ]
  },
  {
   "cell_type": "markdown",
   "metadata": {},
   "source": [
    "## Adding two matrices\n",
    "Let us now add the following matrices:\n",
    "$$\n",
    "\\textbf{A} = \\begin{bmatrix}\n",
    "1 & 2\\\\\n",
    "3 & 4\n",
    "\\end{bmatrix}, \\textbf{B} = \\begin{bmatrix}\n",
    "5 & 6\\\\\n",
    "7 & 8\n",
    "\\end{bmatrix}\n",
    "$$\n",
    "then,\n",
    "$$\n",
    "\\textbf{C} = \\textbf{A} + \\textbf{B}  = \\begin{bmatrix}\n",
    "6 & 8\\\\\n",
    "10 & 12\n",
    "\\end{bmatrix}\n",
    "$$\n",
    "In `NumPy`:"
   ]
  },
  {
   "cell_type": "code",
   "execution_count": 3,
   "metadata": {},
   "outputs": [
    {
     "data": {
      "text/plain": [
       "array([[ 6,  8],\n",
       "       [10, 12]])"
      ]
     },
     "execution_count": 3,
     "metadata": {},
     "output_type": "execute_result"
    }
   ],
   "source": [
    "A = np.array([[1,2],[3,4]])\n",
    "B = np.array([[5,6],[7,8]])\n",
    "A + B"
   ]
  },
  {
   "cell_type": "markdown",
   "metadata": {},
   "source": [
    "## Scaling a matrix\n",
    "Scaling a matrix is nothing but element-wise multiplication:\n",
    "$$\n",
    "\\textbf{M} = \\begin{bmatrix}\n",
    "1 & 2 & 3\\\\\n",
    "4 & 5 & 6\\\\\n",
    "7 & 8 & 9\n",
    "\\end{bmatrix}\n",
    "$$\n",
    "then,\n",
    "$$\n",
    "3 \\textbf{M} = \\begin{bmatrix}\n",
    "3 & 6 & 9\\\\\n",
    "12 & 15 & 18\\\\\n",
    "21 & 24 & 27\n",
    "\\end{bmatrix}\n",
    "$$\n",
    "In `NumPy`:"
   ]
  },
  {
   "cell_type": "code",
   "execution_count": 4,
   "metadata": {},
   "outputs": [
    {
     "data": {
      "text/plain": [
       "array([[ 3,  6,  9],\n",
       "       [12, 15, 18],\n",
       "       [21, 24, 27]])"
      ]
     },
     "execution_count": 4,
     "metadata": {},
     "output_type": "execute_result"
    }
   ],
   "source": [
    "3*M"
   ]
  },
  {
   "cell_type": "markdown",
   "metadata": {},
   "source": [
    "## Element-wise multiplication of matrices\n",
    "Consider two matrices:\n",
    "$$\n",
    "\\textbf{A} = \\begin{bmatrix}\n",
    "1 & 2\\\\\n",
    "3 & 4\n",
    "\\end{bmatrix}, \\textbf{B} = \\begin{bmatrix}\n",
    "5 & 6\\\\\n",
    "7 & 8\n",
    "\\end{bmatrix}\n",
    "$$\n",
    "The element-wise product is given by $\\textbf{A} \\odot \\textbf{B}$:\n",
    "$$\n",
    "\\textbf{C} = \\textbf{A} \\odot \\textbf{B} = \\begin{bmatrix}\n",
    "5 & 12\\\\\n",
    "21 & 32\n",
    "\\end{bmatrix}\n",
    "$$\n",
    "In `NumPy`:"
   ]
  },
  {
   "cell_type": "code",
   "execution_count": 5,
   "metadata": {},
   "outputs": [
    {
     "data": {
      "text/plain": [
       "array([[ 5, 12],\n",
       "       [21, 32]])"
      ]
     },
     "execution_count": 5,
     "metadata": {},
     "output_type": "execute_result"
    }
   ],
   "source": [
    "A * B"
   ]
  },
  {
   "cell_type": "markdown",
   "metadata": {},
   "source": [
    "## Element-wise functions of matrices\n",
    "Given a matrix, we sometimes would want to apply a function to every element of the matrix. We will consider two examples.\n",
    "### Example-1\n",
    "For example, we may want to take the absolute value of all the elements. Let us say $f(x) = |x|$, then:\n",
    "$$\n",
    "\\mathbf{A} = \\begin{bmatrix}\n",
    "-1 & 2\\\\\n",
    "-3 & -4\n",
    "\\end{bmatrix}\n",
    "$$\n",
    "then:\n",
    "$$\n",
    "\\begin{bmatrix}\n",
    "f(-1) & f(2)\\\\\n",
    "f(-3) & f(-4)\n",
    "\\end{bmatrix} =\n",
    "\\begin{bmatrix}\n",
    "1 & 2\\\\\n",
    "3 & 4\n",
    "\\end{bmatrix}\n",
    "$$\n",
    "In `NumPy`, this becomes:"
   ]
  },
  {
   "cell_type": "code",
   "execution_count": 8,
   "metadata": {},
   "outputs": [
    {
     "data": {
      "text/plain": [
       "array([[1, 2],\n",
       "       [3, 4]])"
      ]
     },
     "execution_count": 8,
     "metadata": {},
     "output_type": "execute_result"
    }
   ],
   "source": [
    "AN = np.array([[-1,2],[-3,-4]])\n",
    "np.abs(AN)"
   ]
  },
  {
   "cell_type": "code",
   "execution_count": 9,
   "metadata": {},
   "outputs": [
    {
     "data": {
      "text/plain": [
       "array([[ 1,  4],\n",
       "       [ 9, 16]])"
      ]
     },
     "execution_count": 9,
     "metadata": {},
     "output_type": "execute_result"
    }
   ],
   "source": [
    "AN ** 2"
   ]
  },
  {
   "cell_type": "markdown",
   "metadata": {},
   "source": [
    "## Transpose of a matrix\n",
    "Given a matrix $\\textbf{M}$:\n",
    "$$\n",
    "\\textbf{M} = \\begin{bmatrix}\n",
    "1 & 2 & 3\\\\\n",
    "4 & 5 & 6\n",
    "\\end{bmatrix}\n",
    "$$\n",
    "then, its transpose $\\textbf{M}^{T}$ is:\n",
    "$$\n",
    "\\textbf{M}^{T} = \\begin{bmatrix}\n",
    "1 & 4\\\\\n",
    "2 & 5\\\\\n",
    "3 & 6\n",
    "\\end{bmatrix}\n",
    "$$\n",
    "In `NumPy`:"
   ]
  },
  {
   "cell_type": "code",
   "execution_count": 10,
   "metadata": {},
   "outputs": [
    {
     "data": {
      "text/plain": [
       "array([[1, 4],\n",
       "       [2, 5],\n",
       "       [3, 6]])"
      ]
     },
     "execution_count": 10,
     "metadata": {},
     "output_type": "execute_result"
    }
   ],
   "source": [
    "M = np.array([[1,2,3],[4,5,6]])\n",
    "M.T #or can use np.transpose"
   ]
  },
  {
   "cell_type": "markdown",
   "metadata": {},
   "source": [
    "## Shape and dimension of a matrix\n",
    "Matrices are \"two dimensional\" arrays. So all matrices in `NumPy` have array-dimension equal to two. The shape of the `NumPy` array gives what we usually call the dimension of the matrix in the linear algebra sense.\n",
    "Explore these two ideas for:\n",
    "$$\n",
    "\\mathbf{M} = \\begin{bmatrix}\n",
    "1 & 2 & 3\\\\\n",
    "4 & 5 & 6\\\\\n",
    "\\end{bmatrix}\n",
    "$$\n",
    "In `NumPy`:"
   ]
  },
  {
   "cell_type": "code",
   "execution_count": 11,
   "metadata": {},
   "outputs": [
    {
     "name": "stdout",
     "output_type": "stream",
     "text": [
      "(2, 3)\n",
      "2\n"
     ]
    }
   ],
   "source": [
    "print(M.shape)\n",
    "print(M.ndim)"
   ]
  },
  {
   "cell_type": "markdown",
   "metadata": {},
   "source": [
    "## Vectors as matrices\n",
    "Each vector can be viewed as a matrix. Column vectors are matrices of shape $(d, 1)$. Row vectors are matrices of shape $(1, d)$. Let us look at how NumPy treats both these cases:"
   ]
  },
  {
   "cell_type": "code",
   "execution_count": 17,
   "metadata": {},
   "outputs": [
    {
     "name": "stdout",
     "output_type": "stream",
     "text": [
      "[[1]\n",
      " [2]\n",
      " [3]]\n",
      "(3, 1)\n"
     ]
    }
   ],
   "source": [
    "x = np.array([[1],[2],[3]])\n",
    "#column vector\n",
    "print(x)\n",
    "print(x.shape)"
   ]
  },
  {
   "cell_type": "code",
   "execution_count": 18,
   "metadata": {},
   "outputs": [
    {
     "name": "stdout",
     "output_type": "stream",
     "text": [
      "[[1 2 3]]\n",
      "(1, 3)\n"
     ]
    }
   ],
   "source": [
    "x = np.array([[1,2,3]])\n",
    "#row vector\n",
    "print(x)\n",
    "print(x.shape)"
   ]
  },
  {
   "cell_type": "code",
   "execution_count": 19,
   "metadata": {},
   "outputs": [
    {
     "name": "stdout",
     "output_type": "stream",
     "text": [
      "[1 2 3]\n",
      "(3,)\n"
     ]
    }
   ],
   "source": [
    "#recommended vector use\n",
    "x = np.array([1,2,3])\n",
    "print(x)\n",
    "print(x.shape)"
   ]
  },
  {
   "cell_type": "markdown",
   "metadata": {},
   "source": [
    "## Products involving matrices and vectors\n",
    "\n",
    "We will look at the following products:\n",
    "- matrix - matrix\n",
    "- matrix - vector\n",
    "- vector - matrix\n",
    "- vector - vector"
   ]
  },
  {
   "cell_type": "markdown",
   "metadata": {},
   "source": [
    "### Product of two matrices\n",
    "\n",
    "Given two matrices:\n",
    "\n",
    "$$\n",
    "\\textbf{A} = \\begin{bmatrix}\n",
    "1 & 2 & 3\\\\\n",
    "4 & 5 & 6\n",
    "\\end{bmatrix}, \\textbf{B} = \\begin{bmatrix}\n",
    "6 & 7\\\\\n",
    "8 & 9\\\\\n",
    "10 & 11\n",
    "\\end{bmatrix}\n",
    "$$\n",
    "\n",
    "then,\n",
    "\n",
    "$$\n",
    "\\textbf{C} = \\textbf{A} \\times \\textbf{B} = \\begin{bmatrix}\n",
    "52 & 58\\\\\n",
    "124 & 139\n",
    "\\end{bmatrix}\n",
    "$$\n",
    "\n",
    "In `NumPy`:"
   ]
  },
  {
   "cell_type": "code",
   "execution_count": 23,
   "metadata": {},
   "outputs": [
    {
     "data": {
      "text/plain": [
       "array([[ 52,  58],\n",
       "       [124, 139]])"
      ]
     },
     "execution_count": 23,
     "metadata": {},
     "output_type": "execute_result"
    }
   ],
   "source": [
    "A = np.array([[1,2,3],[4,5,6]])\n",
    "B = np.array([[6,7],[8,9],[10,11]])\n",
    "A @ B"
   ]
  },
  {
   "cell_type": "code",
   "execution_count": 22,
   "metadata": {},
   "outputs": [
    {
     "data": {
      "text/plain": [
       "array([[34, 47, 60],\n",
       "       [44, 61, 78],\n",
       "       [54, 75, 96]])"
      ]
     },
     "execution_count": 22,
     "metadata": {},
     "output_type": "execute_result"
    }
   ],
   "source": [
    "B @ A"
   ]
  },
  {
   "cell_type": "markdown",
   "metadata": {},
   "source": [
    "### Product of a matrix and a (column) vector\n",
    "\n",
    "Given the matrix $\\mathbf{A}$ and the vector $\\mathbf{x}$:\n",
    "\n",
    "$$\n",
    "\\mathbf{A} = \\begin{bmatrix}\n",
    "1 & 2 & 3\\\\\n",
    "4 & 5 & 6\\\\\n",
    "7 & 8 & 9\n",
    "\\end{bmatrix}, \\mathbf{x} = \\begin{bmatrix}\n",
    "6\\\\\n",
    "7\\\\\n",
    "8\n",
    "\\end{bmatrix}\n",
    "$$\n",
    "\n",
    "The product $\\mathbf{Ax}$ is given by:\n",
    "\n",
    "$$\n",
    "\\mathbf{C} = \\mathbf{A x} = \\begin{bmatrix}\n",
    "44\\\\\n",
    "107\\\\\n",
    "170\n",
    "\\end{bmatrix}\n",
    "$$\n",
    "\n",
    "In `NumPy`:"
   ]
  },
  {
   "cell_type": "code",
   "execution_count": 25,
   "metadata": {},
   "outputs": [
    {
     "data": {
      "text/plain": [
       "array([ 44, 107, 170])"
      ]
     },
     "execution_count": 25,
     "metadata": {},
     "output_type": "execute_result"
    }
   ],
   "source": [
    "A = np.array([[1,2,3],[4,5,6],[7,8,9]])\n",
    "x = np.array([6,7,8])\n",
    "A @ x"
   ]
  },
  {
   "cell_type": "markdown",
   "metadata": {},
   "source": [
    "### Product of a (row) vector and a matrix\n",
    "\n",
    "Given the matrix $\\mathbf{A}$ and the vector $\\mathbf{x}$:\n",
    "\n",
    "$$\n",
    "\\mathbf{A} = \\begin{bmatrix}\n",
    "1 & 2 & 3\\\\\n",
    "4 & 5 & 6\\\\\n",
    "7 & 8 & 9\n",
    "\\end{bmatrix}, \\mathbf{x} = \\begin{bmatrix}\n",
    "6\\\\\n",
    "7\\\\\n",
    "8\n",
    "\\end{bmatrix}\n",
    "$$\n",
    "\n",
    "The product $\\mathbf{x}^T \\mathbf{A}$ is given by:\n",
    "\n",
    "$$\n",
    "\\mathbf{C} = \\mathbf{x}^T \\mathbf{A} = \\begin{bmatrix}\n",
    "90 & 111 & 132\n",
    "\\end{bmatrix}\n",
    "$$\n",
    "\n",
    "In `NumPy`:"
   ]
  },
  {
   "cell_type": "code",
   "execution_count": 26,
   "metadata": {},
   "outputs": [
    {
     "data": {
      "text/plain": [
       "array([ 90, 111, 132])"
      ]
     },
     "execution_count": 26,
     "metadata": {},
     "output_type": "execute_result"
    }
   ],
   "source": [
    "x @ A"
   ]
  },
  {
   "cell_type": "code",
   "execution_count": 29,
   "metadata": {},
   "outputs": [
    {
     "name": "stdout",
     "output_type": "stream",
     "text": [
      "[6 7 8]\n",
      "[6 7 8]\n"
     ]
    }
   ],
   "source": [
    "print(x)\n",
    "print(x.T)"
   ]
  },
  {
   "cell_type": "markdown",
   "metadata": {},
   "source": [
    "### (Inner) Product of a (row) vector and a (column) vector\n",
    "\n",
    "The product of a row vector and a column vector is nothing but the usual dot product:\n",
    "\n",
    "$$\n",
    "\\mathbf{x}^T = \\begin{bmatrix}\n",
    "1 & 2 & 3\n",
    "\\end{bmatrix}, \\quad\n",
    "\\mathbf{y} = \\begin{bmatrix}\n",
    "4\\\\\n",
    "5\\\\\n",
    "6\n",
    "\\end{bmatrix}\n",
    "$$\n",
    "\n",
    "The product $\\mathbf{x}^T \\mathbf{y}$ is then:\n",
    "\n",
    "$$\n",
    "\\mathbf{x}^T \\mathbf{y} = 32\n",
    "$$\n",
    "\n",
    "In `NumPy`:"
   ]
  },
  {
   "cell_type": "code",
   "execution_count": 30,
   "metadata": {},
   "outputs": [
    {
     "data": {
      "text/plain": [
       "32"
      ]
     },
     "execution_count": 30,
     "metadata": {},
     "output_type": "execute_result"
    }
   ],
   "source": [
    "x = np.array([1,2,3])\n",
    "y = np.array([4,5,6])\n",
    "x @ y"
   ]
  },
  {
   "cell_type": "markdown",
   "metadata": {},
   "source": [
    "### (Outer) Product of a (column) vector and a (row) vector\n",
    "\n",
    "The product of a column vector and a row vector is an outer product:\n",
    "\n",
    "$$\n",
    "\\mathbf{x} = \\begin{bmatrix}\n",
    "1\\\\\n",
    "2\\\\\n",
    "3\n",
    "\\end{bmatrix}, \\quad\n",
    "\\mathbf{y} = \\begin{bmatrix}\n",
    "4 & 5 & 6\n",
    "\\end{bmatrix}\n",
    "$$\n",
    "\n",
    "The product $\\mathbf{x} \\mathbf{y}^T$ is then:\n",
    "\n",
    "$$\n",
    "\\mathbf{x} \\mathbf{y}^T = \\begin{bmatrix}\n",
    "4 & 5 & 6\\\\\n",
    "8 & 10 & 12\\\\\n",
    "12 & 15 & 18\n",
    "\\end{bmatrix}\n",
    "$$\n",
    "\n",
    "In `NumPy`:"
   ]
  },
  {
   "cell_type": "code",
   "execution_count": 31,
   "metadata": {},
   "outputs": [
    {
     "data": {
      "text/plain": [
       "array([[ 4,  5,  6],\n",
       "       [ 8, 10, 12],\n",
       "       [12, 15, 18]])"
      ]
     },
     "execution_count": 31,
     "metadata": {},
     "output_type": "execute_result"
    }
   ],
   "source": [
    "np.outer(x,y)"
   ]
  },
  {
   "cell_type": "markdown",
   "metadata": {},
   "source": [
    "## Matrix of zeros\n",
    "\n",
    "In many algorithms, we might have to initialize a matrix with zeros. For example, consider a $2 \\times 4$ matrix:\n",
    "\n",
    "$$\n",
    "\\mathbf{M} = \\begin{bmatrix}\n",
    "0 & 0 & 0 & 0\\\\\n",
    "0 & 0 & 0 & 0\n",
    "\\end{bmatrix}\n",
    "$$\n",
    "\n",
    "In `NumPy`:"
   ]
  },
  {
   "cell_type": "code",
   "execution_count": 37,
   "metadata": {},
   "outputs": [
    {
     "data": {
      "text/plain": [
       "array([[0., 0., 0., 0.],\n",
       "       [0., 0., 0., 0.]])"
      ]
     },
     "execution_count": 37,
     "metadata": {},
     "output_type": "execute_result"
    }
   ],
   "source": [
    "np.zeros((2,4))"
   ]
  },
  {
   "cell_type": "markdown",
   "metadata": {},
   "source": [
    "## Matrix of ones\n",
    "\n",
    "Similar to a matrix of zeros, we can come up with a matrix of ones.\n",
    "\n",
    "$$\n",
    "\\mathbf{M} = \\begin{bmatrix}\n",
    "1 & 1\\\\\n",
    "1 & 1\\\\\n",
    "1 & 1\n",
    "\\end{bmatrix}\n",
    "$$\n",
    "\n",
    "In `NumPy`:"
   ]
  },
  {
   "cell_type": "code",
   "execution_count": 38,
   "metadata": {},
   "outputs": [
    {
     "data": {
      "text/plain": [
       "array([[1., 1.],\n",
       "       [1., 1.],\n",
       "       [1., 1.]])"
      ]
     },
     "execution_count": 38,
     "metadata": {},
     "output_type": "execute_result"
    }
   ],
   "source": [
    "np.ones((3,2))"
   ]
  },
  {
   "cell_type": "markdown",
   "metadata": {},
   "source": [
    "## Identity matrix\n",
    "\n",
    "Often, we might have to deal with identity matrices. A $3 \\times 3$ identity matrix is as follows:\n",
    "\n",
    "$$\n",
    "\\mathbf{I} = \\begin{bmatrix}\n",
    "1 & 0 & 0\\\\\n",
    "0 & 1 & 0\\\\\n",
    "0 & 0 & 1\n",
    "\\end{bmatrix}\n",
    "$$\n",
    "\n",
    "In `NumPy`:"
   ]
  },
  {
   "cell_type": "code",
   "execution_count": 39,
   "metadata": {},
   "outputs": [
    {
     "data": {
      "text/plain": [
       "array([[1., 0., 0., 0.],\n",
       "       [0., 1., 0., 0.],\n",
       "       [0., 0., 1., 0.],\n",
       "       [0., 0., 0., 1.]])"
      ]
     },
     "execution_count": 39,
     "metadata": {},
     "output_type": "execute_result"
    }
   ],
   "source": [
    "np.eye(4)"
   ]
  },
  {
   "cell_type": "markdown",
   "metadata": {},
   "source": [
    "## Diagonal matrices\n",
    "\n",
    "Another special kind of matrix. Let us create the following matrix:\n",
    "\n",
    "$$\n",
    "\\mathbf{D} = \\begin{bmatrix}\n",
    "1 & 0 & 0 & 0\\\\\n",
    "0 & 2 & 0 & 0\\\\\n",
    "0 & 0 & 3 & 0\\\\\n",
    "0 & 0 & 0 & 4\n",
    "\\end{bmatrix}\n",
    "$$\n",
    "\n",
    "In `NumPy`:"
   ]
  },
  {
   "cell_type": "code",
   "execution_count": 40,
   "metadata": {},
   "outputs": [
    {
     "data": {
      "text/plain": [
       "array([[1, 0, 0, 0, 0, 0],\n",
       "       [0, 2, 0, 0, 0, 0],\n",
       "       [0, 0, 3, 0, 0, 0],\n",
       "       [0, 0, 0, 4, 0, 0],\n",
       "       [0, 0, 0, 0, 5, 0],\n",
       "       [0, 0, 0, 0, 0, 6]])"
      ]
     },
     "execution_count": 40,
     "metadata": {},
     "output_type": "execute_result"
    }
   ],
   "source": [
    "np.diag([1,2,3,4,5,6])"
   ]
  },
  {
   "cell_type": "markdown",
   "metadata": {},
   "source": [
    "## Indexing and Slicing\n",
    "\n",
    "Just like lists in Python, `NumPy` arrays can be indexed and sliced. Slicing is useful if we want to work with a portion of an array. We will look at some examples.\n",
    "### Example-1: Row-slice\n",
    "\n",
    "We will extract the third row of the matrix $\\mathbf{M}$:\n",
    "\n",
    "$$\n",
    "\\mathbf{M} = \\begin{bmatrix}\n",
    "1 & 2\\\\\n",
    "3 & 4\\\\\n",
    "5 & 6\\\\\n",
    "7 & 8\\\\\n",
    "9 & 10\n",
    "\\end{bmatrix}\n",
    "$$\n",
    "In `NumPy`:"
   ]
  },
  {
   "cell_type": "code",
   "execution_count": 41,
   "metadata": {},
   "outputs": [
    {
     "data": {
      "text/plain": [
       "array([5, 6])"
      ]
     },
     "execution_count": 41,
     "metadata": {},
     "output_type": "execute_result"
    }
   ],
   "source": [
    "M = np.arange(1,11).reshape(5,2)\n",
    "M[2]"
   ]
  },
  {
   "cell_type": "markdown",
   "metadata": {},
   "source": [
    "### Example-2: Column slice\n",
    "\n",
    "Let us now extract the second column of the following matrix:\n",
    "\n",
    "$$\n",
    "\\mathbf{M} = \\begin{bmatrix}\n",
    "1 & 2 & 3\\\\\n",
    "4 & 5 & 6\\\\\n",
    "7 & 8 & 9\n",
    "\\end{bmatrix}\n",
    "$$\n",
    "\n",
    "In `NumPy`:"
   ]
  },
  {
   "cell_type": "code",
   "execution_count": 43,
   "metadata": {},
   "outputs": [
    {
     "data": {
      "text/plain": [
       "array([3, 6, 9])"
      ]
     },
     "execution_count": 43,
     "metadata": {},
     "output_type": "execute_result"
    }
   ],
   "source": [
    "M = np.arange(1,10).reshape(3,3)\n",
    "M[:,2]\n",
    "#M[0,2]\n",
    "#M[1,2]\n",
    "#M[2,2]"
   ]
  },
  {
   "cell_type": "markdown",
   "metadata": {},
   "source": [
    "### Example-3: Submatrix slice\n",
    "\n",
    "Now, we want to extract the $2 \\times 2$ submatrix colored in blue from $M$:\n",
    "\n",
    "$$\n",
    "\\mathbf{M} = \\begin{bmatrix}\n",
    "1 & 2 & 3 & 4\\\\\n",
    "5 & 6 & \\color{blue}7 & \\color{blue}8\\\\\n",
    "9 & 10 & \\color{blue}{11} & \\color{blue}{12}\\\\\n",
    "13 & 14 & 15 & 16\n",
    "\\end{bmatrix}\n",
    "$$\n",
    "\n",
    "In `NumPy`:"
   ]
  },
  {
   "cell_type": "code",
   "execution_count": 44,
   "metadata": {},
   "outputs": [
    {
     "data": {
      "text/plain": [
       "array([[ 7,  8],\n",
       "       [11, 12]])"
      ]
     },
     "execution_count": 44,
     "metadata": {},
     "output_type": "execute_result"
    }
   ],
   "source": [
    "M = np.arange(1,17).reshape(4,4)\n",
    "M[1:3,2:4]"
   ]
  },
  {
   "cell_type": "code",
   "execution_count": 45,
   "metadata": {},
   "outputs": [
    {
     "data": {
      "text/plain": [
       "array([[ 7,  8],\n",
       "       [11, 12]])"
      ]
     },
     "execution_count": 45,
     "metadata": {},
     "output_type": "execute_result"
    }
   ],
   "source": [
    "M[1:3,2:]"
   ]
  },
  {
   "cell_type": "markdown",
   "metadata": {},
   "source": [
    "## Matrix algebra\n",
    "\n",
    "There are several important matrix operations that we will list down here. The `np.linalg` module helps us perform these operations effortlessly.\n",
    "## Rank, Inverse\n",
    "\n",
    "We can get the rank of a matrix and its inverse as follows:"
   ]
  },
  {
   "cell_type": "code",
   "execution_count": 4,
   "metadata": {},
   "outputs": [
    {
     "data": {
      "text/plain": [
       "2"
      ]
     },
     "execution_count": 4,
     "metadata": {},
     "output_type": "execute_result"
    }
   ],
   "source": [
    "M = np.arange(1,10).reshape(3,3)\n",
    "np.linalg.matrix_rank(M)"
   ]
  },
  {
   "cell_type": "markdown",
   "metadata": {},
   "source": [
    "### Pseuodoinverse\n",
    "\n",
    "The pseudoinverse $\\mathbf{M}^{\\dagger}$ of a matrix $\\mathbf{M}$ with real entries satisfies the following properties:\n",
    "\n",
    "- $\\mathbf{M} \\mathbf{M}^{\\dagger} \\mathbf{M} = \\mathbf{M}$\n",
    "- $\\mathbf{M}^{\\dagger} \\mathbf{M} \\mathbf{M} = \\mathbf{M}^{\\dagger}$\n",
    "- $\\mathbf{M} \\mathbf{M}^{\\dagger}$ is symmetric\n",
    "- $\\mathbf{M}^{\\dagger} \\mathbf{M}$ is symmetric\n",
    "\n",
    "Let us go ahead and verify this for the following matrix:\n",
    "\n",
    "$$\n",
    "\\mathbf{M} = \\begin{bmatrix}\n",
    "1 & 2 & 3\\\\\n",
    "3 & 6 & 9\n",
    "\\end{bmatrix}\n",
    "$$\n",
    "\n",
    "Note: For a complete list of properties of the pseudoinverse, check out this [link](https://en.wikipedia.org/wiki/Moore%E2%80%93Penrose_inverse#Definition)."
   ]
  },
  {
   "cell_type": "code",
   "execution_count": 19,
   "metadata": {},
   "outputs": [
    {
     "name": "stdout",
     "output_type": "stream",
     "text": [
      "[[0.00714286 0.02142857]\n",
      " [0.01428571 0.04285714]\n",
      " [0.02142857 0.06428571]]\n",
      "1\n"
     ]
    }
   ],
   "source": [
    "M = np.array([[1,2,3],[3,6,9]])\n",
    "print(np.linalg.pinv(M))\n",
    "print(np.linalg.matrix_rank(M))"
   ]
  },
  {
   "cell_type": "markdown",
   "metadata": {},
   "source": [
    "## Eigenvalues and Eigenvectors\n",
    "\n",
    "Given a symmetric matrix $\\mathbf{M}$ let us find its eigenvalues and eigenvectors:\n",
    "\n",
    "$$\n",
    "\\mathbf{M} = \\begin{bmatrix}\n",
    "1 & 0 & -3\\\\\n",
    "0 & 5 & 2\\\\\n",
    "-3 & 2 & 8\n",
    "\\end{bmatrix}\n",
    "$$"
   ]
  },
  {
   "cell_type": "code",
   "execution_count": 23,
   "metadata": {},
   "outputs": [
    {
     "data": {
      "text/plain": [
       "SVDResult(U=array([[-0.2991889 , -0.26010485,  0.91805853],\n",
       "       [ 0.36418131, -0.92042494, -0.14209114],\n",
       "       [ 0.88196257,  0.29182767,  0.37010626]]), S=array([9.84353554, 4.36588492, 0.20942046]), Vh=array([[-0.2991889 ,  0.36418131,  0.88196257],\n",
       "       [-0.26010485, -0.92042494,  0.29182767],\n",
       "       [-0.91805853,  0.14209114, -0.37010626]]))"
      ]
     },
     "execution_count": 23,
     "metadata": {},
     "output_type": "execute_result"
    }
   ],
   "source": [
    "M = np.array([[1,0,-3],\n",
    "              [0,5,2],\n",
    "              [-3,2,8]])\n",
    "eVal, eVec = np.linalg.eig(M)"
   ]
  },
  {
   "cell_type": "markdown",
   "metadata": {},
   "source": [
    "## SVD\n",
    "\n",
    "We can compute the singular value decomposition of a matrix $\\mathbf{M}$ as:\n",
    "\n",
    "$$\n",
    "\\mathbf{M} = \\mathbf{U} \\boldsymbol{\\Sigma} \\mathbf{V}^T\n",
    "$$\n",
    "\n",
    "Here, the symbols have their usual meanings."
   ]
  },
  {
   "cell_type": "code",
   "execution_count": 28,
   "metadata": {},
   "outputs": [
    {
     "data": {
      "text/plain": [
       "SVDResult(U=array([[ 0.        ,  1.        ,  0.        ],\n",
       "       [ 0.22975292,  0.        , -0.97324899],\n",
       "       [ 0.97324899,  0.        ,  0.22975292]]), S=array([5.11667274, 3.        , 1.95439508]), Vh=array([[ 0.        ,  0.0898056 ,  0.99595931],\n",
       "       [ 1.        ,  0.        ,  0.        ],\n",
       "       [ 0.        , -0.99595931,  0.0898056 ]]))"
      ]
     },
     "execution_count": 28,
     "metadata": {},
     "output_type": "execute_result"
    }
   ],
   "source": [
    "M = np.array([[3,0,0],\n",
    "              [0,2,1],\n",
    "              [0,0,5]])\n",
    "np.linalg.svd(M)"
   ]
  }
 ],
 "metadata": {
  "kernelspec": {
   "display_name": "Python 3",
   "language": "python",
   "name": "python3"
  },
  "language_info": {
   "codemirror_mode": {
    "name": "ipython",
    "version": 3
   },
   "file_extension": ".py",
   "mimetype": "text/x-python",
   "name": "python",
   "nbconvert_exporter": "python",
   "pygments_lexer": "ipython3",
   "version": "3.12.1"
  }
 },
 "nbformat": 4,
 "nbformat_minor": 2
}
