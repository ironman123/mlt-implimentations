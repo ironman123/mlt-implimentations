{
 "cells": [
  {
   "cell_type": "markdown",
   "metadata": {},
   "source": [
    "# NumPy Arrays\n",
    "\n",
    "We will study `NumPy` arrays in more detail."
   ]
  },
  {
   "cell_type": "code",
   "execution_count": 1,
   "metadata": {},
   "outputs": [],
   "source": [
    "import numpy as np"
   ]
  },
  {
   "cell_type": "markdown",
   "metadata": {},
   "source": [
    "## Arrays\n",
    "\n",
    "It should have become amply clear by now that both vectors and matrices are `NumPy` arrays. Each array in `NumPy` has a dimension. Vectors are one-dimensional arrays while matrices are two-dimensional arrays. For example:\n",
    "\n",
    "$$\n",
    "\\mathbf{x} = \\begin{bmatrix}\n",
    "1\\\\\n",
    "2\\\\\n",
    "3\n",
    "\\end{bmatrix},\n",
    "\\mathbf{M} = \\begin{bmatrix}\n",
    "1 & 2\\\\\n",
    "3 & 4\\\\\n",
    "5 & 6\n",
    "\\end{bmatrix}\n",
    "$$\n",
    "\n",
    "In `NumPy`:"
   ]
  },
  {
   "cell_type": "code",
   "execution_count": 2,
   "metadata": {},
   "outputs": [
    {
     "name": "stdout",
     "output_type": "stream",
     "text": [
      "[[1 2]\n",
      " [3 4]\n",
      " [5 6]]\n",
      "[1 2 3]\n"
     ]
    }
   ],
   "source": [
    "M = np.arange(1,7).reshape(3,2)\n",
    "X = np.array([1,2,3])\n",
    "print(M)\n",
    "print(X)"
   ]
  },
  {
   "cell_type": "code",
   "execution_count": 6,
   "metadata": {},
   "outputs": [
    {
     "name": "stdout",
     "output_type": "stream",
     "text": [
      "[[[ 1  2  3]\n",
      "  [ 4  5  6]]\n",
      "\n",
      " [[ 7  8  9]\n",
      "  [10 11 12]]]\n",
      "[[ 7  8  9]\n",
      " [10 11 12]]\n"
     ]
    }
   ],
   "source": [
    "M = np.arange(1,13).reshape(2,2,3)\n",
    "print(M)\n",
    "print(M[1])"
   ]
  },
  {
   "cell_type": "code",
   "execution_count": 9,
   "metadata": {},
   "outputs": [
    {
     "data": {
      "text/plain": [
       "(10000, 28, 28)"
      ]
     },
     "execution_count": 9,
     "metadata": {},
     "output_type": "execute_result"
    }
   ],
   "source": [
    "M = np.zeros((10000,784))\n",
    "M = M.reshape(-1,28,28)\n",
    "M.shape"
   ]
  },
  {
   "cell_type": "code",
   "execution_count": 18,
   "metadata": {},
   "outputs": [
    {
     "data": {
      "text/plain": [
       "array([[ 0.,  0.,  5., 13.,  9.,  1.,  0.,  0.],\n",
       "       [ 0.,  0., 13., 15., 10., 15.,  5.,  0.],\n",
       "       [ 0.,  3., 15.,  2.,  0., 11.,  8.,  0.],\n",
       "       [ 0.,  4., 12.,  0.,  0.,  8.,  8.,  0.],\n",
       "       [ 0.,  5.,  8.,  0.,  0.,  9.,  8.,  0.],\n",
       "       [ 0.,  4., 11.,  0.,  1., 12.,  7.,  0.],\n",
       "       [ 0.,  2., 14.,  5., 10., 12.,  0.,  0.],\n",
       "       [ 0.,  0.,  6., 13., 10.,  0.,  0.,  0.]])"
      ]
     },
     "execution_count": 18,
     "metadata": {},
     "output_type": "execute_result"
    }
   ],
   "source": [
    "from sklearn.datasets import load_digits\n",
    "data = load_digits()\n",
    "data.images[0]"
   ]
  },
  {
   "cell_type": "code",
   "execution_count": 30,
   "metadata": {},
   "outputs": [
    {
     "data": {
      "text/plain": [
       "<matplotlib.image.AxesImage at 0x1840bd47590>"
      ]
     },
     "execution_count": 30,
     "metadata": {},
     "output_type": "execute_result"
    },
    {
     "data": {
      "image/png": "[encoded data removed]",
      "text/plain": [
       "<Figure size 640x480 with 1 Axes>"
      ]
     },
     "metadata": {},
     "output_type": "display_data"
    }
   ],
   "source": [
    "import matplotlib.pyplot as plt\n",
    "plt.imshow(data.images[3],cmap=\"grey\")"
   ]
  },
  {
   "cell_type": "markdown",
   "metadata": {},
   "source": [
    "## Reshaping\n",
    "\n",
    "Arrays can be reshaped. We will do a number of examples here.\n",
    "### Example-1: Vector to matrix\n",
    "\n",
    "We start with a vector:\n",
    "\n",
    "$$\n",
    "\\mathbf{x} = \\begin{bmatrix}\n",
    "1 & 2 & 3 & 4 & 5 & 6\n",
    "\\end{bmatrix}\n",
    "$$\n",
    "\n",
    "We can reshape it into the following matrix:\n",
    "\n",
    "$$\n",
    "\\mathbf{M} = \\begin{bmatrix}\n",
    "1 & 2\\\\\n",
    "3 & 4\\\\\n",
    "5 & 6\n",
    "\\end{bmatrix}\n",
    "$$\n",
    "\n",
    "In `NumPy`:"
   ]
  },
  {
   "cell_type": "code",
   "execution_count": 32,
   "metadata": {},
   "outputs": [
    {
     "data": {
      "text/plain": [
       "array([[1, 2],\n",
       "       [3, 4],\n",
       "       [5, 6]])"
      ]
     },
     "execution_count": 32,
     "metadata": {},
     "output_type": "execute_result"
    }
   ],
   "source": [
    "X = np.arange(1,7)\n",
    "X.reshape(-1,2) # I needed 2 columns but didn't know how many rows, so -1 is given as argument when unknown"
   ]
  },
  {
   "cell_type": "markdown",
   "metadata": {},
   "source": [
    "### Example-2: Matrix to vector\n",
    "\n",
    "We now start with a matrix:\n",
    "\n",
    "$$\n",
    "\\mathbf{M} = \\begin{bmatrix}\n",
    "1 & 2 & 3\\\\\n",
    "4 & 5 & 6\n",
    "\\end{bmatrix}\n",
    "$$\n",
    "\n",
    "We can now reshape it into a vector:\n",
    "\n",
    "$$\n",
    "\\mathbf{x} = \\begin{bmatrix}\n",
    "1 & 2 & 3 & 4 & 5 & 6\n",
    "\\end{bmatrix}\n",
    "$$\n",
    "\n",
    "In `NumPy`:"
   ]
  },
  {
   "cell_type": "code",
   "execution_count": 36,
   "metadata": {},
   "outputs": [
    {
     "data": {
      "text/plain": [
       "numpy.ndarray"
      ]
     },
     "execution_count": 36,
     "metadata": {},
     "output_type": "execute_result"
    }
   ],
   "source": [
    "M = np.array([[1,2,3],\n",
    "              [4,5,6]])\n",
    "M.reshape(1,-1)[0] #to turn it into a numpy array"
   ]
  },
  {
   "cell_type": "markdown",
   "metadata": {},
   "source": [
    "### Example-3: Matrix to matrix\n",
    "\n",
    "We can reshape a matrix into another matrix as well. Sometimes, we may not want to specify the dimensions completely. In such cases, we can let `NumPy` figure them out by letting one of the dimensions to be $-1$. For example:\n",
    "\n",
    "$$\n",
    "\\mathbf{M} = \\begin{bmatrix}\n",
    "1 & 2 & 3\\\\\n",
    "4 & 5 & 6\n",
    "\\end{bmatrix}\n",
    "$$\n",
    "\n",
    "Let us say we want to reshape it in such a way that there are three rows:\n",
    "\n",
    "$$\n",
    "\\mathbf{P} = \\begin{bmatrix}\n",
    "1 & 2\\\\\n",
    "3 & 4\\\\\n",
    "5 & 6\n",
    "\\end{bmatrix}\n",
    "$$\n",
    "\n",
    "In `NumPy`:"
   ]
  },
  {
   "cell_type": "code",
   "execution_count": 37,
   "metadata": {},
   "outputs": [
    {
     "data": {
      "text/plain": [
       "array([[1, 2],\n",
       "       [3, 4],\n",
       "       [5, 6]])"
      ]
     },
     "execution_count": 37,
     "metadata": {},
     "output_type": "execute_result"
    }
   ],
   "source": [
    "M = np.arange(1,7).reshape(2,3)\n",
    "P = M.reshape(3,2)\n",
    "P"
   ]
  },
  {
   "cell_type": "markdown",
   "metadata": {},
   "source": [
    "## Matrix-vector addition\n",
    "\n",
    "Sometimes we would have to add a vector to each row or column of a matrix. There are two cases to consider. If the vector to be added is a:\n",
    "\n",
    "- row vector\n",
    "- column vector\n",
    "### Row-vector\n",
    "\n",
    "Consider the following matrix $\\mathbf{M}$ and vector $\\mathbf{b}$:\n",
    "\n",
    "$$\n",
    "\\mathbf{M} = \\begin{bmatrix}\n",
    "1 & 2 & 3\\\\\n",
    "4 & 5 & 6\n",
    "\\end{bmatrix}, \\mathbf{b} = \\begin{bmatrix}\n",
    "1 & 2 & 3\n",
    "\\end{bmatrix}\n",
    "$$\n",
    "\n",
    "There is a slight abuse of notation as we can't add a matrix and a vector together. However, the context often makes this clear:\n",
    "\n",
    "$$\n",
    "\\mathbf{M} + \\mathbf{b} = \\begin{bmatrix}\n",
    "2 & 4 & 6\\\\\n",
    "5 & 7 & 9\n",
    "\\end{bmatrix}\n",
    "$$\n",
    "\n",
    "In `NumPy`:"
   ]
  },
  {
   "cell_type": "code",
   "execution_count": 38,
   "metadata": {},
   "outputs": [
    {
     "data": {
      "text/plain": [
       "array([[2, 4, 6],\n",
       "       [5, 7, 9]])"
      ]
     },
     "execution_count": 38,
     "metadata": {},
     "output_type": "execute_result"
    }
   ],
   "source": [
    "M = np.arange(1,7).reshape(2,3)\n",
    "b = np.array([1,2,3])\n",
    "M + b # this uses broadcasting just like M * c (const)"
   ]
  },
  {
   "cell_type": "markdown",
   "metadata": {},
   "source": [
    "### Column-vector\n",
    "\n",
    "Now, consider another pair:\n",
    "\n",
    "$$\n",
    "\\mathbf{M} = \\begin{bmatrix}\n",
    "1 & 2 & 3\\\\\n",
    "4 & 5 & 6\n",
    "\\end{bmatrix}, \\mathbf{b} = \\begin{bmatrix}\n",
    "1\\\\\n",
    "2\n",
    "\\end{bmatrix}\n",
    "$$\n",
    "\n",
    "In this case, we have:\n",
    "\n",
    "$$\n",
    "\\mathbf{M} + \\mathbf{b} = \\begin{bmatrix}\n",
    "2 & 3 & 4\\\\\n",
    "6 & 7 & 8\n",
    "\\end{bmatrix}\n",
    "$$\n",
    "\n",
    "In `NumPy`:"
   ]
  },
  {
   "cell_type": "code",
   "execution_count": 40,
   "metadata": {},
   "outputs": [
    {
     "data": {
      "text/plain": [
       "array([[2, 3, 4],\n",
       "       [6, 7, 8]])"
      ]
     },
     "execution_count": 40,
     "metadata": {},
     "output_type": "execute_result"
    }
   ],
   "source": [
    "a = np.array([[1],[2]])\n",
    "M + a"
   ]
  },
  {
   "cell_type": "markdown",
   "metadata": {},
   "source": [
    "## Advanced Indexing\n",
    "\n",
    "NumPy has some advanced indexing features."
   ]
  },
  {
   "cell_type": "code",
   "execution_count": 50,
   "metadata": {},
   "outputs": [
    {
     "name": "stdout",
     "output_type": "stream",
     "text": [
      "[[1 2 3]\n",
      " [4 5 6]\n",
      " [7 8 9]]\n",
      "\n",
      "[[1 2 3]\n",
      " [7 8 9]]\n",
      "[[1 3]\n",
      " [4 6]\n",
      " [7 9]]\n",
      "[2 9]\n"
     ]
    }
   ],
   "source": [
    "M = np.arange(1,10).reshape(3,3)\n",
    "print(M)\n",
    "print()\n",
    "print(M[[0,2]]) # this prints the 0th and 2nd row\n",
    "print(M[:,[0,2]])# this prints the 0th and 2nd column\n",
    "print(M[[0,2],[1,2]]) # this will give the 1th element of 0th row and 2nd element of 2nd row"
   ]
  },
  {
   "cell_type": "markdown",
   "metadata": {},
   "source": [
    "### Indexing using arrays\n",
    "\n",
    "`NumPy` arrays themselves can be used as indices to retreive different parts of the array. For example:\n",
    "\n",
    "$$\n",
    "\\mathbf{x} = \\begin{bmatrix}\n",
    "10 & 11 & 12 & 13 & 14 & 15 & 16\n",
    "\\end{bmatrix}\n",
    "$$\n",
    "\n",
    "Let us say that we are interested in retreiving indices: `[1, 3, 6]`.\n",
    "\n",
    "In `NumPy`:"
   ]
  },
  {
   "cell_type": "code",
   "execution_count": 52,
   "metadata": {},
   "outputs": [
    {
     "data": {
      "text/plain": [
       "array([11, 13, 16])"
      ]
     },
     "execution_count": 52,
     "metadata": {},
     "output_type": "execute_result"
    }
   ],
   "source": [
    "X = np.array([10,11,12,13,14,15,16])\n",
    "X[[1,3,6]]"
   ]
  },
  {
   "cell_type": "markdown",
   "metadata": {},
   "source": [
    "### Filtering particular values\n",
    "\n",
    "Sometimes we are interested in those elements of the array that possess a particular property:\n",
    "\n",
    "$$\n",
    "\\mathbf{x} = \\begin{bmatrix}\n",
    "3 & 1 & 0 & -4 & -2 & 1 & 5\n",
    "\\end{bmatrix}\n",
    "$$\n",
    "\n",
    "Let us try to extract all elements that are positive.\n",
    "\n",
    "In `NumPy`:"
   ]
  },
  {
   "cell_type": "code",
   "execution_count": 59,
   "metadata": {},
   "outputs": [
    {
     "data": {
      "text/plain": [
       "array([ True,  True, False, False, False,  True,  True])"
      ]
     },
     "execution_count": 59,
     "metadata": {},
     "output_type": "execute_result"
    }
   ],
   "source": [
    "X = np.array([3,1,0,-4,-2,1,5])\n",
    "X > 0"
   ]
  },
  {
   "cell_type": "code",
   "execution_count": 60,
   "metadata": {},
   "outputs": [
    {
     "data": {
      "text/plain": [
       "array([3, 1, 1, 5])"
      ]
     },
     "execution_count": 60,
     "metadata": {},
     "output_type": "execute_result"
    }
   ],
   "source": [
    "X[X > 0]"
   ]
  },
  {
   "cell_type": "code",
   "execution_count": 61,
   "metadata": {},
   "outputs": [
    {
     "data": {
      "text/plain": [
       "array([[2, 0],\n",
       "       [1, 5]])"
      ]
     },
     "execution_count": 61,
     "metadata": {},
     "output_type": "execute_result"
    }
   ],
   "source": [
    "X = np.array([[2, -1, 0],\n",
    "              [1, -3, 5]])\n",
    "y = np.array([1, -1, 1])\n",
    "\n",
    "X[:,y==1] # this filterouts all the columns for which y = 1, like in "
   ]
  },
  {
   "cell_type": "code",
   "execution_count": 73,
   "metadata": {},
   "outputs": [
    {
     "data": {
      "text/plain": [
       "array([[ 2,  3,  4,  5],\n",
       "       [ 7,  8,  9, 10],\n",
       "       [12, 13, 14, 15]])"
      ]
     },
     "execution_count": 73,
     "metadata": {},
     "output_type": "execute_result"
    }
   ],
   "source": [
    "M = np.array([[1, 2, 3, 4],\n",
    "              [5, 6, 7, 8],\n",
    "              [9, 10, 11, 12]])\n",
    "b = np.array([1, 2, 3])\n",
    "b = np.expand_dims(b,axis=1)\n",
    "M + b"
   ]
  },
  {
   "cell_type": "markdown",
   "metadata": {},
   "source": [
    "### Filtering and follow-up\n",
    "\n",
    "Consider a linear classifier:\n",
    "\n",
    "$$\n",
    "\\mathbf{w} = \\begin{bmatrix}\n",
    "1 \\\\\n",
    "0 \\\\\n",
    "-1\n",
    "\\end{bmatrix}\n",
    "$$\n",
    "\n",
    "And a dataset:\n",
    "\n",
    "$$\n",
    "\\mathbf{X} = \\begin{bmatrix}\n",
    "1 & 2 & -1 & 3\\\\\n",
    "0 & 1 & -1 & 4\\\\\n",
    "-1 & 3 & 0 & 5\n",
    "\\end{bmatrix},\\\\ \\mathbf{y} = \\begin{bmatrix}\n",
    "1 & 1 & -1 & -1\n",
    "\\end{bmatrix}^T\n",
    "$$\n",
    "\n",
    "Find the accuracy of the classifier."
   ]
  },
  {
   "cell_type": "code",
   "execution_count": 83,
   "metadata": {},
   "outputs": [
    {
     "name": "stdout",
     "output_type": "stream",
     "text": [
      "[ 1 -1 -1 -1]\n"
     ]
    },
    {
     "data": {
      "text/plain": [
       "array([[ 1, -1,  3],\n",
       "       [ 0, -1,  4],\n",
       "       [-1,  0,  5]])"
      ]
     },
     "execution_count": 83,
     "metadata": {},
     "output_type": "execute_result"
    }
   ],
   "source": [
    "w = np.array([1,0,-1])\n",
    "x = np.array([[1,2,-1,3],\n",
    "              [0,1,-1,4],\n",
    "              [-1,3,0,5]])\n",
    "y = np.array([1,1,-1,-1])\n",
    "\n",
    "y_ = np.sign(w @ x)\n",
    "\n",
    "print(y_)\n",
    "\n",
    "x[:,y == y_]\n"
   ]
  },
  {
   "cell_type": "markdown",
   "metadata": {},
   "source": [
    "## Operations along axes\n",
    "\n",
    "Sometimes we may wish to do some operations on all the row-vectors of a matrix or all the column-vectors of the matrix. The idea of `axis` is important to understand how these operations can be done.\n",
    "### Top-bottom\n",
    "\n",
    "Top-bottom operations are done on row-vectors. For example, consider the matrix:\n",
    "\n",
    "$$\n",
    "\\mathbf{A} = \\begin{bmatrix}\n",
    "1 & 2 & 3 & 4\\\\\n",
    "5 & 6 & 7 & 8\n",
    "\\end{bmatrix}\n",
    "$$\n",
    "\n",
    "The sum of the row-vectors of the matrix is a vector:\n",
    "\n",
    "$$\n",
    "\\text{rsum}(\\mathbf{A}) = \\begin{bmatrix}\n",
    "6 & 8 & 10 & 12\n",
    "\\end{bmatrix}\n",
    "$$\n",
    "\n",
    "In `NumPy`:"
   ]
  },
  {
   "cell_type": "code",
   "execution_count": 84,
   "metadata": {},
   "outputs": [
    {
     "data": {
      "text/plain": [
       "array([ 6,  8, 10, 12])"
      ]
     },
     "execution_count": 84,
     "metadata": {},
     "output_type": "execute_result"
    }
   ],
   "source": [
    "A = np.arange(1,9).reshape(2,-1)\n",
    "A.sum(axis=0)"
   ]
  },
  {
   "cell_type": "markdown",
   "metadata": {},
   "source": [
    "### Left-right\n",
    "\n",
    "Left-right operations are done on column-vectors.\n",
    "\n",
    "$$\n",
    "\\mathbf{A} = \\begin{bmatrix}\n",
    "1 & 2 & 3 & 4\\\\\n",
    "5 & 6 & 7 & 8\n",
    "\\end{bmatrix}\n",
    "$$\n",
    "\n",
    "The sum of the column-vectors of the matrix is a vector:\n",
    "\n",
    "$$\n",
    "\\text{csum}(\\mathbf{A}) = \\begin{bmatrix}\n",
    "10\\\\\n",
    "26\n",
    "\\end{bmatrix}\n",
    "$$\n",
    "\n",
    "In `NumPy`:"
   ]
  },
  {
   "cell_type": "code",
   "execution_count": 85,
   "metadata": {},
   "outputs": [
    {
     "data": {
      "text/plain": [
       "array([10, 26])"
      ]
     },
     "execution_count": 85,
     "metadata": {},
     "output_type": "execute_result"
    }
   ],
   "source": [
    "A.sum(axis=1)"
   ]
  },
  {
   "cell_type": "markdown",
   "metadata": {},
   "source": [
    "### Sum, Mean, Variance, Norm\n",
    "\n",
    "Some of the operations that can be done in this manner. Let us use the following matrix to demonstrate this:\n",
    "\n",
    "$$\n",
    "\\mathbf{M} = \\begin{bmatrix}\n",
    "1 & 2 & 3\\\\\n",
    "4 & 5 & 6\\\\\n",
    "7 & 8 & 9\n",
    "\\end{bmatrix}\n",
    "$$\n",
    "\n",
    "Let us find the following quantities:\n",
    "\n",
    "- sum of column-vectors\n",
    "- mean of row-vectors\n",
    "- variance of row-vectors"
   ]
  },
  {
   "cell_type": "code",
   "execution_count": 90,
   "metadata": {},
   "outputs": [
    {
     "name": "stdout",
     "output_type": "stream",
     "text": [
      "[ 6 15 24]\n",
      "[4. 5. 6.]\n",
      "[6. 6. 6.]\n"
     ]
    }
   ],
   "source": [
    "M = np.arange(1,10).reshape(3,3)\n",
    "print(M.sum(axis=1))\n",
    "print(M.mean(axis=0))\n",
    "print(M.var(axis=0))"
   ]
  },
  {
   "cell_type": "markdown",
   "metadata": {},
   "source": [
    "## Stacking arrays\n",
    "\n",
    "Sometimes, we would want to stack arrays. Consider the two matrices:\n",
    "\n",
    "$$\n",
    "\\mathbf{A} =\n",
    "\\begin{bmatrix}\n",
    "1 & 2\\\\\n",
    "3 & 4\n",
    "\\end{bmatrix},\n",
    "\\mathbf{B} =\n",
    "\\begin{bmatrix}\n",
    "5 & 6\\\\\n",
    "7 & 8\n",
    "\\end{bmatrix}\n",
    "$$\n",
    "\n",
    "There are two ways to stack these two matrices:\n",
    "\n",
    "- top-bottom\n",
    "- left-right"
   ]
  },
  {
   "cell_type": "code",
   "execution_count": 93,
   "metadata": {},
   "outputs": [
    {
     "name": "stdout",
     "output_type": "stream",
     "text": [
      "[[1 2]\n",
      " [3 4]\n",
      " [5 6]\n",
      " [7 8]]\n",
      "[[1 2 5 6]\n",
      " [3 4 7 8]]\n"
     ]
    }
   ],
   "source": [
    "A = np.arange(1,5).reshape(2,2)\n",
    "B = np.arange(5,9).reshape(2,2)\n",
    "print(np.concatenate((A,B),axis = 0)) #top-bottom\n",
    "print(np.concatenate((A,B),axis = 1)) #left-right"
   ]
  }
 ],
 "metadata": {
  "kernelspec": {
   "display_name": "Python 3",
   "language": "python",
   "name": "python3"
  },
  "language_info": {
   "codemirror_mode": {
    "name": "ipython",
    "version": 3
   },
   "file_extension": ".py",
   "mimetype": "text/x-python",
   "name": "python",
   "nbconvert_exporter": "python",
   "pygments_lexer": "ipython3",
   "version": "3.12.1"
  }
 },
 "nbformat": 4,
 "nbformat_minor": 2
}
